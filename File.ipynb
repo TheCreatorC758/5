{
 "cells": [
  {
   "cell_type": "code",
   "execution_count": null,
   "metadata": {
    "colab": {
     "base_uri": "https://localhost:8080/",
     "height": 978
    },
    "id": "FnvBI1Z98kN_",
    "outputId": "1c55f450-8f37-4277-e06f-9fb9e78f9d43"
   },
   "outputs": [],
   "source": [
    "# Hierarchical Clustering\n",
    "import matplotlib.pyplot as plotter\n",
    "import pandas as pd\n",
    "collectedDataset = pd.read_csv(\"Datasets_5/OnlineBusinessCustomers.csv\")\n",
    "X = collectedDataset.iloc[:,[3,4]].values\n",
    "\n",
    "# Use Dendrogram to find out the optimal number of clusters\n",
    "import scipy.cluster.hierarchy as sch\n",
    "dendrogram=sch.dendrogram(sch.linkage(X,method='ward'))\n",
    "plotter.title('Dendrogram')\n",
    "plotter.xlabel('OnlineBusinessCustomers')\n",
    "plotter.ylabel('Euclidean Distances')\n",
    "plotter.show()\n",
    "\n",
    "# Fit the Hierarchical Clustering Model to the dataset\n",
    "from sklearn.cluster import AgglomerativeClustering\n",
    "hc=AgglomerativeClustering(n_clusters=5,affinity='euclidean',linkage='ward')\n",
    "Y_hc=hc.fit_predict(X)\n",
    "\n",
    "# Visualize the clusters\n",
    "plotter.scatter(X[Y_hc==0,0],X[Y_hc==0,1],s=100,c='red',label='Careful')\n",
    "plotter.scatter(X[Y_hc==1,0],X[Y_hc==1,1],s=100,c='blue',label='Standard')\n",
    "plotter.scatter(X[Y_hc==2,0],X[Y_hc==2,1],s=100,c='green',label='Target')\n",
    "plotter.scatter(X[Y_hc==3,0],X[Y_hc==3,1],s=100,c='cyan',label='Careless')\n",
    "plotter.scatter(X[Y_hc==4,0],X[Y_hc==4,1],s=100,c='magenta',label='Sensible')\n",
    "plotter.title('Clusters of OnlineBusinessCustomers')\n",
    "plotter.xlabel('Annual Income (k$)')\n",
    "plotter.ylabel('Spending Score (1-100)')\n",
    "plotter.legend()\n",
    "plotter.show()"
   ]
  },
  {
   "cell_type": "code",
   "execution_count": null,
   "metadata": {
    "colab": {
     "base_uri": "https://localhost:8080/",
     "height": 1000
    },
    "id": "4M5qGQgb9WRV",
    "outputId": "fdb5ab5a-f2f2-4d73-bb7c-c60261c949d8"
   },
   "outputs": [],
   "source": [
    "import pandas as pd\n",
    "import matplotlib.pyplot as plt\n",
    "from sklearn.cluster import KMeans\n",
    "\n",
    "# Read the dataset and extract relevant features\n",
    "data = pd.read_csv(\"Datasets_5/OnlineBusinessCustomers.csv\")\n",
    "X = data.iloc[:, [3, 4]].values\n",
    "\n",
    "# Find the optimal number of clusters using the Elbow Method\n",
    "wcss = [KMeans(n_clusters=i, init='k-means++', max_iter=300, n_init=10, random_state=0).fit(X).inertia_ for i in range(1, 11)]\n",
    "plt.plot(range(1, 11), wcss)\n",
    "plt.title('The Elbow Method')\n",
    "plt.xlabel('Number of Clusters')\n",
    "plt.ylabel('WCSS')\n",
    "plt.show()\n",
    "\n",
    "# Apply K-means clustering with the optimal number of clusters\n",
    "kmeans = KMeans(n_clusters=5, init='k-means++', max_iter=300, n_init=10, random_state=0)\n",
    "Y_kmeans = kmeans.fit_predict(X)\n",
    "\n",
    "# Visualize the clusters and centroids\n",
    "colors = ['red', 'blue', 'green', 'cyan', 'magenta']\n",
    "labels = ['Careful', 'Standard', 'Target', 'Careless', 'Sensible']\n",
    "for i in range(5):\n",
    "    plt.scatter(X[Y_kmeans == i, 0], X[Y_kmeans == i, 1], s=100, c=colors[i], label=labels[i])\n",
    "\n",
    "plt.scatter(kmeans.cluster_centers_[:, 0], kmeans.cluster_centers_[:, 1], s=300, c='yellow', label='Centroids')\n",
    "plt.title('Clusters of Online Business Customers')\n",
    "plt.xlabel('Annual Income (k$)')\n",
    "plt.ylabel('Spending Score (1-100)')\n",
    "plt.legend()\n",
    "plt.show()\n"
   ]
  },
  {
   "cell_type": "code",
   "execution_count": null,
   "metadata": {
    "colab": {
     "base_uri": "https://localhost:8080/",
     "height": 459
    },
    "id": "_VQd9swd9XkL",
    "outputId": "0f844234-3de2-4827-c5f5-efe93dd87109"
   },
   "outputs": [],
   "source": [
    "import pandas as pd\n",
    "from mlxtend.frequent_patterns import apriori, association_rules\n",
    "\n",
    "# Read the dataset and preprocess\n",
    "df = pd.read_csv(\"Datasets_5/online_retail_II.csv\", encoding='ISO-8859-1')\n",
    "df = df[~df['Invoice'].str.contains('C')]\n",
    "\n",
    "# Create basket and apply Apriori\n",
    "basket = (df[df['Country'] == \"France\"]\n",
    "          .pivot_table(index='Invoice', columns='Description', values='Quantity', aggfunc='sum', fill_value=0)\n",
    "          .applymap(lambda x: 1 if x >= 1 else 0)\n",
    "          .drop(columns=['POSTAGE']))\n",
    "frequent_itemsets = apriori(basket, min_support=0.07, use_colnames=True)\n",
    "\n",
    "# Generate and filter association rules\n",
    "rules = association_rules(frequent_itemsets, metric=\"lift\", min_threshold=1)\n",
    "interesting_rules = rules[(rules['lift'] >= 6) & (rules['confidence'] >= 0.8)]\n",
    "\n",
    "# Display interesting rules in tabular format\n",
    "print(interesting_rules[['consequents', 'support', 'confidence', 'lift','leverage']])"
   ]
  },
  {
   "cell_type": "code",
   "execution_count": null,
   "metadata": {},
   "outputs": [],
   "source": []
  }
 ],
 "metadata": {
  "colab": {
   "provenance": []
  },
  "kernelspec": {
   "display_name": "Python 3 (ipykernel)",
   "language": "python",
   "name": "python3"
  },
  "language_info": {
   "codemirror_mode": {
    "name": "ipython",
    "version": 3
   },
   "file_extension": ".py",
   "mimetype": "text/x-python",
   "name": "python",
   "nbconvert_exporter": "python",
   "pygments_lexer": "ipython3",
   "version": "3.10.4"
  }
 },
 "nbformat": 4,
 "nbformat_minor": 4
}
